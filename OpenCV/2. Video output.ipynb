{
 "cells": [
  {
   "cell_type": "markdown",
   "id": "05a73138",
   "metadata": {},
   "source": [
    "# 2. Video Output"
   ]
  },
  {
   "cell_type": "markdown",
   "id": "58a43972",
   "metadata": {},
   "source": [
    "## video file output"
   ]
  },
  {
   "cell_type": "code",
   "execution_count": 3,
   "id": "b6544e67",
   "metadata": {},
   "outputs": [
    {
     "name": "stdout",
     "output_type": "stream",
     "text": [
      "no more frame left\n"
     ]
    }
   ],
   "source": [
    "import cv2\n",
    "cap = cv2.VideoCapture('video.mp4')\n",
    "\n",
    "while cap.isOpened(): # a video file is open right?\n",
    "    ret, frame = cap.read() # ret : a file is successfully open?\n",
    "                            # frame : downloaded image(frame)\n",
    "    if not ret : \n",
    "        print('no more frame left')\n",
    "        break\n",
    "    \n",
    "    cv2.imshow('video', frame)\n",
    "    \n",
    "    if cv2.waitKey(1) == ord('q'):\n",
    "        print('a program is closing from user input \"q\" ')\n",
    "        break\n",
    "        \n",
    "cap.release() # return the resource\n",
    "cv2.destroyAllWindows() # close all windows\n"
   ]
  },
  {
   "cell_type": "markdown",
   "id": "481695a3",
   "metadata": {},
   "source": [
    "## camera output"
   ]
  },
  {
   "cell_type": "code",
   "execution_count": 7,
   "id": "e9ed35d6",
   "metadata": {},
   "outputs": [],
   "source": [
    "import cv2\n",
    "\n",
    "cap = cv2.VideoCapture(0) # 0th camera(device id)\n",
    "\n",
    "if not cap.isOpened(): # in case the camera is not opened\n",
    "    exit() # close the program\n",
    "\n",
    "while True:\n",
    "    ret, frame = cap.read()\n",
    "    if not ret : \n",
    "        break\n",
    "    \n",
    "    cv2.imshow('camera', frame)\n",
    "    \n",
    "    if cv2.waitKey(1) == ord('q'): # close the program when the user press 'q'\n",
    "        break\n",
    "cap.release()\n",
    "cv2.destroyAllWindows()"
   ]
  },
  {
   "cell_type": "code",
   "execution_count": null,
   "id": "1d428252",
   "metadata": {},
   "outputs": [],
   "source": []
  }
 ],
 "metadata": {
  "kernelspec": {
   "display_name": "Python 3 (ipykernel)",
   "language": "python",
   "name": "python3"
  },
  "language_info": {
   "codemirror_mode": {
    "name": "ipython",
    "version": 3
   },
   "file_extension": ".py",
   "mimetype": "text/x-python",
   "name": "python",
   "nbconvert_exporter": "python",
   "pygments_lexer": "ipython3",
   "version": "3.9.7"
  }
 },
 "nbformat": 4,
 "nbformat_minor": 5
}
