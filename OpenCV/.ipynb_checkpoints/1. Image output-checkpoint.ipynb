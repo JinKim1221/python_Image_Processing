{
 "cells": [
  {
   "cell_type": "markdown",
   "id": "34cd4c3c",
   "metadata": {},
   "source": [
    "# Configuration\n",
    "commands in Anaconda Prompt\n",
    "> pip isntall opencv-python"
   ]
  },
  {
   "cell_type": "markdown",
   "id": "81d2f8e4",
   "metadata": {},
   "source": [
    "# OpenCV (Computer Vision)\n",
    "A library for the use of processing various images/ videos"
   ]
  },
  {
   "cell_type": "markdown",
   "id": "5f947c5b",
   "metadata": {},
   "source": [
    "1_ Image output"
   ]
  },
  {
   "cell_type": "code",
   "execution_count": 3,
   "id": "b459966f",
   "metadata": {},
   "outputs": [],
   "source": [
    "import cv2\n",
    "img = cv2.imread('img.jpg') # read the path of the image\n",
    "cv2.imshow('image', img)#img is represent on a window named 'image'\n",
    "cv2.waitKey(0)# wait for the key for the limited time\n",
    "cv2.destroyAllWindows() # close all windows"
   ]
  },
  {
   "cell_type": "markdown",
   "id": "15d62242",
   "metadata": {},
   "source": [
    "# Option to read\n",
    "1. cv2.IMREAD_COLOR : coloured image, excluding transparency(default)\n",
    "1. cv2.IMREAD_GRAYSCALE : White/Black iamge\n",
    "1. cv2.IMREAD_UNCHANGED : including transparency(default)"
   ]
  },
  {
   "cell_type": "code",
   "execution_count": 4,
   "id": "b35b3932",
   "metadata": {},
   "outputs": [],
   "source": [
    "import cv2\n",
    "img_color = cv2.imread('img.jpg', cv2.IMREAD_COLOR)\n",
    "img_gray = cv2.imread('img.jpg', cv2.IMREAD_GRAYSCALE)\n",
    "img_unchanged = cv2.imread('img.jpg', cv2.IMREAD_UNCHANGED)\n",
    "\n",
    "cv2.imshow('image_color', img_color)\n",
    "cv2.imshow('image_gray', img_gray)\n",
    "cv2.imshow('image_unchanged', img_unchanged)\n",
    "cv2.waitKey(0)\n",
    "cv2.destroyAllWindows()"
   ]
  },
  {
   "cell_type": "markdown",
   "id": "210feb1d",
   "metadata": {},
   "source": [
    "# Shape\n",
    "information of height, width, channel of an image"
   ]
  },
  {
   "cell_type": "code",
   "execution_count": 6,
   "id": "6850616f",
   "metadata": {},
   "outputs": [
    {
     "data": {
      "text/plain": [
       "(426, 640, 3)"
      ]
     },
     "execution_count": 6,
     "metadata": {},
     "output_type": "execute_result"
    }
   ],
   "source": [
    "import cv2\n",
    "img = cv2.imread('img.jpg')\n",
    "img.shape"
   ]
  }
 ],
 "metadata": {
  "kernelspec": {
   "display_name": "Python 3 (ipykernel)",
   "language": "python",
   "name": "python3"
  },
  "language_info": {
   "codemirror_mode": {
    "name": "ipython",
    "version": 3
   },
   "file_extension": ".py",
   "mimetype": "text/x-python",
   "name": "python",
   "nbconvert_exporter": "python",
   "pygments_lexer": "ipython3",
   "version": "3.9.7"
  }
 },
 "nbformat": 4,
 "nbformat_minor": 5
}
