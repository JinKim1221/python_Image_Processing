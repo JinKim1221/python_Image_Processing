{
 "cells": [
  {
   "cell_type": "markdown",
   "id": "6a446ed7",
   "metadata": {},
   "source": [
    "# 3. Draw Shapes"
   ]
  },
  {
   "cell_type": "markdown",
   "id": "4bb4ff68",
   "metadata": {},
   "source": [
    "##  Make an empty sketchbook"
   ]
  },
  {
   "cell_type": "code",
   "execution_count": null,
   "id": "751523a5",
   "metadata": {},
   "outputs": [],
   "source": [
    "import cv2\n",
    "import numpy as np\n",
    "\n",
    "# width 640 X height 480, 3 channel(RGB)\n",
    "img = np.zeros((480, 640, 3), dtype=np.uint8)\n",
    "img[:] = (255, 255, 255) # all space is filled with white colour\n",
    "# print(img)\n",
    "cv2.imshow('img', img)\n",
    "cv2.waitKey(0)\n",
    "cv2.destroyAllWindows()"
   ]
  },
  {
   "cell_type": "markdown",
   "id": "5bbc3e10",
   "metadata": {},
   "source": [
    "## Partially drawing"
   ]
  },
  {
   "cell_type": "code",
   "execution_count": null,
   "id": "72420a47",
   "metadata": {},
   "outputs": [],
   "source": [
    "import cv2\n",
    "import numpy as np\n",
    "\n",
    "# width 640 X height 480, 3 channel(RGB)\n",
    "img = np.zeros((480, 640, 3), dtype=np.uint8)\n",
    "img[100:200, 200:300] = (255,255,255)\n",
    "# img[height, width]\n",
    "cv2.imshow('img', img)\n",
    "cv2.waitKey(0)\n",
    "cv2.destroyAllWindows()"
   ]
  },
  {
   "cell_type": "markdown",
   "id": "140cd733",
   "metadata": {},
   "source": [
    "## Line\n",
    "\n",
    "types of line\n",
    "1. cv2.LINE_4 : up down left right\n",
    "2. cv2.LINE_8 : including diagnol lines(default)\n",
    "3. cv2.LINE_AA : soft line(anit-aliasing)\n"
   ]
  },
  {
   "cell_type": "code",
   "execution_count": 1,
   "id": "0b626ec3",
   "metadata": {},
   "outputs": [
    {
     "data": {
      "text/plain": [
       "<function destroyAllWindows>"
      ]
     },
     "execution_count": 1,
     "metadata": {},
     "output_type": "execute_result"
    }
   ],
   "source": [
    "import cv2\n",
    "import numpy as np\n",
    "\n",
    "# width 640 X height 480, 3 channel(RGB)\n",
    "img = np.zeros((480, 640, 3), dtype=np.uint8)\n",
    "Colour = (0, 255, 255) #BGR\n",
    "Thickness = 3\n",
    "\n",
    "cv2.line(img, (50, 100), (400, 50), Colour, Thickness, cv2.LINE_8)\n",
    "cv2.line(img, (50, 200), (400, 150), Colour, Thickness, cv2.LINE_4)\n",
    "cv2.line(img, (50, 300), (400, 250), Colour, Thickness, cv2.LINE_AA)\n",
    "# position of drawing, start, end, colour, how thick, type of line\n",
    "\n",
    "cv2.imshow('img', img)\n",
    "cv2.waitKey(0)\n",
    "cv2.destroyAllWindows"
   ]
  },
  {
   "cell_type": "markdown",
   "id": "42a557cf",
   "metadata": {},
   "source": [
    "# Circle"
   ]
  },
  {
   "cell_type": "code",
   "execution_count": null,
   "id": "d431e210",
   "metadata": {},
   "outputs": [],
   "source": [
    "import cv2\n",
    "import numpy as np\n",
    "\n",
    "# width 640 X height 480, 3 channel(RGB)\n",
    "img = np.zeros((480, 640, 3), dtype=np.uint8)\n",
    "Colour = (0, 255, 255) #BGR\n",
    "Radius = 50\n",
    "Thickness = 10\n",
    "\n",
    "cv2.circle(img, (200, 100), Radius, Colour, Thickness, cv2.LINE_AA) # Circle that is empty\n",
    "\n",
    "cv2.circle(img, (400, 100), Radius, Colour, cv2.FILLED, cv2.LINE_AA) # Circle that is filled\n",
    "cv2.imshow('img', img)\n",
    "cv2.waitKey(0)\n",
    "cv2.destroyAllWindows"
   ]
  },
  {
   "cell_type": "markdown",
   "id": "309430ab",
   "metadata": {},
   "source": [
    "## Rectangle"
   ]
  },
  {
   "cell_type": "code",
   "execution_count": null,
   "id": "3aec69e6",
   "metadata": {},
   "outputs": [],
   "source": [
    "import cv2\n",
    "import numpy as np\n",
    "\n",
    "# width 640 X height 480, 3 channel(RGB)\n",
    "img = np.zeros((480, 640, 3), dtype=np.uint8)\n",
    "Colour = (0, 255, 0) #BGR Green\n",
    "Thickness = 3\n",
    "\n",
    "cv2.rectangle(img, (100, 100), (200, 200), Colour, Thickness) # Empty rectangle\n",
    "# position of drawing, top left, down right, colour, thickness\n",
    "cv2.rectangle(img, (300, 100), (400, 300), Colour, cv2.FILLED) # Filled rect\n",
    "\n",
    "\n",
    "cv2.imshow('img', img)\n",
    "cv2.waitKey(0)\n",
    "cv2.destroyAllWindows()"
   ]
  },
  {
   "cell_type": "markdown",
   "id": "02bbd45a",
   "metadata": {},
   "source": [
    "## polygon (다각형)"
   ]
  },
  {
   "cell_type": "code",
   "execution_count": null,
   "id": "a82bf7f9",
   "metadata": {},
   "outputs": [],
   "source": [
    "import cv2\n",
    "import numpy as np\n",
    "\n",
    "# width 640 X height 480, 3 channel(RGB)\n",
    "img = np.zeros((480, 640, 3), dtype=np.uint8)\n",
    "Colour = (0, 0, 255) #BGR Red\n",
    "Thickness = 3\n",
    "\n",
    "pts1 = np.array([[100, 100],[200, 100],[100, 200]]) # triangle\n",
    "pts2 = np.array([[200, 100],[300, 100],[300, 200]]) # triangle\n",
    "\n",
    "# cv2.polylines(img, [pts1], True, Colour, Thickness, cv2.LINE_AA)\n",
    "# cv2.polylines(img, [pts2], True, Colour, Thickness, cv2.LINE_AA)\n",
    "cv2.polylines(img, [pts1, pts2], True, Colour, Thickness, cv2.LINE_AA)\n",
    "# position of drawing, lines of shapes, close or open, colour, thickness, type of line\n",
    "\n",
    "pts3 = np.array([[[100,300],[200,300],[100,400]],[[200,300],[300,300],[300,400]]])\n",
    "cv2.fillPoly(img, pts3, Colour, cv2.LINE_AA) # filled polygon\n",
    "\n",
    "cv2.imshow('img', img)\n",
    "cv2.waitKey(0)\n",
    "cv2.destroyAllWindows()"
   ]
  },
  {
   "cell_type": "code",
   "execution_count": null,
   "id": "952116af",
   "metadata": {},
   "outputs": [],
   "source": []
  },
  {
   "cell_type": "code",
   "execution_count": null,
   "id": "81d1763d",
   "metadata": {},
   "outputs": [],
   "source": []
  }
 ],
 "metadata": {
  "kernelspec": {
   "display_name": "Python 3 (ipykernel)",
   "language": "python",
   "name": "python3"
  },
  "language_info": {
   "codemirror_mode": {
    "name": "ipython",
    "version": 3
   },
   "file_extension": ".py",
   "mimetype": "text/x-python",
   "name": "python",
   "nbconvert_exporter": "python",
   "pygments_lexer": "ipython3",
   "version": "3.9.7"
  }
 },
 "nbformat": 4,
 "nbformat_minor": 5
}
