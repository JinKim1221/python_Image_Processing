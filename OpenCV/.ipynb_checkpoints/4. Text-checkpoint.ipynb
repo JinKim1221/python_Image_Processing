{
 "cells": [
  {
   "cell_type": "markdown",
   "id": "a8387780",
   "metadata": {},
   "source": [
    "# 4. Text"
   ]
  },
  {
   "cell_type": "markdown",
   "id": "d02d2981",
   "metadata": {},
   "source": [
    "## types of font in OpenCV\n",
    "1. cv2.FONT_HERSHEY_SIMPLEX : normal size sans-serif\n",
    "1. cv2.FONT_HERSHEY_PLAIN : small size\n",
    "1. cv2.FONT_HERSHEY_SCRIPT_SIMPLEX : 필기체\n",
    "1. cv2.FONT_HERSHEY_TRIPLEX : normal sie serif\n",
    "1. cv2.FONT_ITALIC : 기울임체"
   ]
  },
  {
   "cell_type": "code",
   "execution_count": null,
   "id": "9002e202",
   "metadata": {},
   "outputs": [],
   "source": [
    "import numpy as np\n",
    "import cv2\n",
    "\n",
    "img = np.zeros((480, 640, 3), dtype = np.uint8)\n",
    "\n",
    "scale = 2 # size\n",
    "colour = (255,255,255) #white\n",
    "thickness = 3 # how thick\n",
    "\n",
    "\n",
    "cv2.putText(img, \"cv2 simplex\", (20, 50),cv2.FONT_HERSHEY_SIMPLEX, scale, colour, thickness)\n",
    "# position of drawing, text, (start point), font type, text size, text colour, text thickness\n",
    "cv2.putText(img, \"cv2 Plain\", (20, 150),cv2.FONT_HERSHEY_PLAIN, scale, colour, thickness)\n",
    "cv2.putText(img, \"cv2 Script Simplex\", (20, 250),cv2.FONT_HERSHEY_SCRIPT_SIMPLEX, scale, colour, thickness)\n",
    "cv2.putText(img, \"cv2 Triplex\", (20, 350),cv2.FONT_HERSHEY_TRIPLEX, scale, colour, thickness)\n",
    "cv2.putText(img, \"cv2 Italic\", (20, 450),cv2.FONT_HERSHEY_TRIPLEX | cv2.FONT_ITALIC, scale, colour, thickness)\n",
    "\n",
    "cv2.imshow('img', img)\n",
    "cv2.waitKey(0)\n",
    "cv2.destroyAllWindows()"
   ]
  },
  {
   "cell_type": "markdown",
   "id": "2070a772",
   "metadata": {},
   "source": [
    "# Text in Korean"
   ]
  },
  {
   "cell_type": "code",
   "execution_count": 11,
   "id": "da81b4f5",
   "metadata": {},
   "outputs": [],
   "source": [
    "import numpy as np\n",
    "import cv2\n",
    "#PIL (Python Image Library)\n",
    "from PIL import ImageFont, ImageDraw, Image\n",
    "\n",
    "def myPutText(src, text, pos, font_size, font_colour):\n",
    "    img_pil = Image.fromarray(src)\n",
    "    draw = ImageDraw.Draw(img_pil)\n",
    "    font = ImageFont.truetype('fonts/gulim.ttc',font_size)\n",
    "    draw.text(pos, text, font=font, fill=font_colour)\n",
    "    \n",
    "    return np.array(img_pil)\n",
    "\n",
    "img = np.zeros((480, 640, 3), dtype = np.uint8)\n",
    "\n",
    "\n",
    "colour = (255,255,255) #white\n",
    "font_size = 30\n",
    "\n",
    "img = myPutText(img, \"한글 코딩 cv2\", (20,50), font_size, colour)\n",
    "\n",
    "cv2.imshow('img', img)\n",
    "cv2.waitKey(0)\n",
    "cv2.destroyAllWindows()"
   ]
  },
  {
   "cell_type": "code",
   "execution_count": null,
   "id": "0c71cc19",
   "metadata": {},
   "outputs": [],
   "source": []
  }
 ],
 "metadata": {
  "kernelspec": {
   "display_name": "Python 3 (ipykernel)",
   "language": "python",
   "name": "python3"
  },
  "language_info": {
   "codemirror_mode": {
    "name": "ipython",
    "version": 3
   },
   "file_extension": ".py",
   "mimetype": "text/x-python",
   "name": "python",
   "nbconvert_exporter": "python",
   "pygments_lexer": "ipython3",
   "version": "3.9.7"
  }
 },
 "nbformat": 4,
 "nbformat_minor": 5
}
