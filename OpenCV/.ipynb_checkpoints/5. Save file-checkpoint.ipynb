{
 "cells": [
  {
   "cell_type": "markdown",
   "id": "6d531131",
   "metadata": {},
   "source": [
    "# Save file"
   ]
  },
  {
   "cell_type": "markdown",
   "id": "cc7f2f7a",
   "metadata": {},
   "source": [
    "## Save images"
   ]
  },
  {
   "cell_type": "code",
   "execution_count": 2,
   "id": "829c28c5",
   "metadata": {},
   "outputs": [
    {
     "name": "stdout",
     "output_type": "stream",
     "text": [
      "True\n"
     ]
    }
   ],
   "source": [
    "import cv2\n",
    "img = cv2.imread('img.jpg', cv2.IMREAD_GRAYSCALE) # get image in black and white\n",
    "cv2.imshow('img',img)\n",
    "cv2.waitKey(0)\n",
    "cv2.destroyAllWindows()\n",
    "\n",
    "result = cv2.imwrite('img_save.jpg', img)\n",
    "print(result)"
   ]
  },
  {
   "cell_type": "markdown",
   "id": "5b84f418",
   "metadata": {},
   "source": [
    "## file format(jpg, png)"
   ]
  },
  {
   "cell_type": "code",
   "execution_count": 4,
   "id": "fcd506b2",
   "metadata": {},
   "outputs": [
    {
     "data": {
      "text/plain": [
       "True"
      ]
     },
     "execution_count": 4,
     "metadata": {},
     "output_type": "execute_result"
    }
   ],
   "source": [
    "import cv2\n",
    "img = cv2.imread('img.jpg', cv2.IMREAD_GRAYSCALE) # get image in black and white\n",
    "cv2.imwrite('img_save.png', img) # png format"
   ]
  },
  {
   "cell_type": "markdown",
   "id": "3e897030",
   "metadata": {},
   "source": [
    "## Save videos"
   ]
  },
  {
   "cell_type": "code",
   "execution_count": 6,
   "id": "b191a02d",
   "metadata": {},
   "outputs": [],
   "source": [
    "import cv2\n",
    "cap = cv2.VideoCapture('video.mp4')\n",
    "\n",
    "# define codec\n",
    "fourcc = cv2.VideoWriter_fourcc(*'DIVX')\n",
    "# fourcc = cv2.VideoWriter_fourcc('D','I','V','X')\n",
    "\n",
    "width = round(cap.get(cv2.CAP_PROP_FRAME_WIDTH))\n",
    "height = round(cap.get(cv2.CAP_PROP_FRAME_HEIGHT))\n",
    "fps = cap.get(cv2.CAP_PROP_FPS) # control the speed of videos\n",
    "\n",
    "out = cv2.VideoWriter('output.avi', fourcc, fps,(width, height))\n",
    "# file name, codec, fps, size(widht, height)\n",
    "\n",
    "\n",
    "while cap.isOpened():\n",
    "    ret, frame = cap.read()\n",
    "    if not ret:\n",
    "        break\n",
    "    \n",
    "    out.write(frame) # only video not sound\n",
    "    \n",
    "    cv2.imshow('video', frame)\n",
    "    if cv2.waitKey(1)==ord('q'):\n",
    "        break\n",
    "\n",
    "out.release()#resource terminate \n",
    "cap.release()\n",
    "cv2.destroyAllWindows()"
   ]
  },
  {
   "cell_type": "code",
   "execution_count": null,
   "id": "e5b92e30",
   "metadata": {},
   "outputs": [],
   "source": []
  }
 ],
 "metadata": {
  "kernelspec": {
   "display_name": "Python 3 (ipykernel)",
   "language": "python",
   "name": "python3"
  },
  "language_info": {
   "codemirror_mode": {
    "name": "ipython",
    "version": 3
   },
   "file_extension": ".py",
   "mimetype": "text/x-python",
   "name": "python",
   "nbconvert_exporter": "python",
   "pygments_lexer": "ipython3",
   "version": "3.9.7"
  }
 },
 "nbformat": 4,
 "nbformat_minor": 5
}
